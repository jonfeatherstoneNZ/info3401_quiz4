{
  "nbformat": 4,
  "nbformat_minor": 0,
  "metadata": {
    "colab": {
      "provenance": [],
      "cell_execution_strategy": "setup",
      "collapsed_sections": [
        "Y3Rnbu5MwA5U"
      ],
      "authorship_tag": "ABX9TyMhNosnkVhp6pJrg2SzxhiY",
      "include_colab_link": true
    },
    "kernelspec": {
      "name": "python3",
      "display_name": "Python 3"
    },
    "language_info": {
      "name": "python"
    }
  },
  "cells": [
    {
      "cell_type": "markdown",
      "metadata": {
        "id": "view-in-github",
        "colab_type": "text"
      },
      "source": [
        "<a href=\"https://colab.research.google.com/github/jonfeatherstoneNZ/info3401_quiz4/blob/main/Week_10_Python_Pandas_Quiz_4.ipynb\" target=\"_parent\"><img src=\"https://colab.research.google.com/assets/colab-badge.svg\" alt=\"Open In Colab\"/></a>"
      ]
    },
    {
      "cell_type": "markdown",
      "source": [
        "# Hidden"
      ],
      "metadata": {
        "id": "Y3Rnbu5MwA5U"
      }
    },
    {
      "cell_type": "code",
      "execution_count": null,
      "metadata": {
        "id": "_f_dyVNfuFpz"
      },
      "outputs": [],
      "source": [
        "from google.colab import _message\n",
        "import hashlib\n",
        "import warnings # Suppress warning\n",
        "warnings.simplefilter(action='ignore', category=FutureWarning)\n",
        "\n",
        "# Jon's super duper ultra foolproof you will never get around this colab cell result checker\n",
        "# You shouldn't really be looking at this you know\n",
        "\n",
        "# Check answer\n",
        "def check(qref):  # ex: qref=\"#Q1\"\n",
        "  # read contents of colab notebook into a json object\n",
        "  notebook_json = _message.blocking_request('get_ipynb', request='', timeout_sec=5)\n",
        "  qref_cell_found=False # a flag to store if the selected question qref is found somewhere in the notebook\n",
        "  for cell in notebook_json['ipynb']['cells']: # loop over each cell in the notebook\n",
        "    if cell['source']: # ignore if the contents of the cell is empty\n",
        "      cell_source = cell['source'][0] # get the cell contents\n",
        "      if (cell_source.startswith(qref)): # get the cell if it starts with the qref we are looking for eg: \"#Q1\"\n",
        "        qref_cell_found=True\n",
        "        if cell['outputs']: # check if cell output is not empty\n",
        "          #print(cell['outputs']) # DEBUG: print cell output\n",
        "          if cell['outputs'][0]['output_type']=='execute_result': # check if cell output is in execute_result format\n",
        "            rst = cell['outputs'][0]['data']['text/plain'] # get cell output in plain text format\n",
        "          elif cell['outputs'][0]['output_type']=='stream': # check if cell output is in stream format\n",
        "            rst = cell['outputs'][0]['text'] # get cell output in plain text format\n",
        "          else:\n",
        "            return \"Cell output format not supported\"\n",
        "          # calculate cell output md5 hash (hex format)\n",
        "          # Plan A: Used the built in python hash, only to discover that it generates a different hash result per session!\n",
        "          # Plan B: hashlib.md5 always returns the same result :-)\n",
        "          hash_result=hashlib.md5(''.join(rst).encode()).hexdigest()\n",
        "          # check if correct by comparing answer hash with known correct hash\n",
        "          try:\n",
        "            #if qanswers[qref]==hash_result: return \"ok\"\n",
        "            return hash_result[:4]\n",
        "          except:\n",
        "            pass # this question answer not found in dictionary qanswers[qref]\n",
        "        else:\n",
        "          return \"Cell output is empty\"\n",
        "  if not(qref_cell_found): return \"Cell not found\"\n",
        "  #return str(hashlib.md5(''.join(rst).encode()).hexdigest()) + \" nok\"\n",
        "  return str(hashlib.md5(''.join(rst).encode()).hexdigest())[:4]"
      ]
    },
    {
      "cell_type": "markdown",
      "source": [
        "# Imports + Load Dataset"
      ],
      "metadata": {
        "id": "-Nwx7_VbE64P"
      }
    },
    {
      "cell_type": "code",
      "source": [
        "import pandas as pd\n",
        "import seaborn as sns\n",
        "import matplotlib.pyplot as plt\n",
        "\n",
        "# Load the mpg dataset\n",
        "mpg = sns.load_dataset('mpg')"
      ],
      "metadata": {
        "id": "MKdSLtTDuOUe"
      },
      "execution_count": null,
      "outputs": []
    },
    {
      "cell_type": "code",
      "source": [
        "#Q1 Display the datatype of the variable mpg\n"
      ],
      "metadata": {
        "id": "EiDpTk0Lu3zE"
      },
      "execution_count": null,
      "outputs": []
    },
    {
      "cell_type": "code",
      "source": [
        "check(\"#Q1\")"
      ],
      "metadata": {
        "id": "4Fs8X-fTu5iL",
        "colab": {
          "base_uri": "https://localhost:8080/",
          "height": 35
        },
        "outputId": "5532b28c-c8bd-4f30-afc3-47f5e9d4e1c3"
      },
      "execution_count": 29,
      "outputs": [
        {
          "output_type": "execute_result",
          "data": {
            "text/plain": [
              "'Cell output is empty'"
            ],
            "application/vnd.google.colaboratory.intrinsic+json": {
              "type": "string"
            }
          },
          "metadata": {},
          "execution_count": 29
        }
      ]
    },
    {
      "cell_type": "code",
      "source": [
        "#Q2 Display info about all columns in the mpg dataframe\n"
      ],
      "metadata": {
        "id": "NUIDAMzjw2_N"
      },
      "execution_count": null,
      "outputs": []
    },
    {
      "cell_type": "code",
      "source": [
        "check(\"#Q2\")"
      ],
      "metadata": {
        "id": "fsajbwBCxIt_"
      },
      "execution_count": null,
      "outputs": []
    },
    {
      "cell_type": "code",
      "source": [
        "#Q3 Display summary statistics of all numeric columns\n"
      ],
      "metadata": {
        "id": "g9eeFUaN2TmQ"
      },
      "execution_count": null,
      "outputs": []
    },
    {
      "cell_type": "code",
      "source": [
        "check(\"#Q3\")"
      ],
      "metadata": {
        "id": "PdZMdN5v2XL5"
      },
      "execution_count": null,
      "outputs": []
    },
    {
      "cell_type": "code",
      "source": [
        "#Q4 Display the mpg column names\n"
      ],
      "metadata": {
        "id": "A-AC5EHK3dX1"
      },
      "execution_count": null,
      "outputs": []
    },
    {
      "cell_type": "code",
      "source": [
        "check(\"#Q4\")"
      ],
      "metadata": {
        "id": "GoA-wrIS3h-N"
      },
      "execution_count": null,
      "outputs": []
    },
    {
      "cell_type": "code",
      "source": [
        "#Q5 Display the first 8 rows of mpg\n"
      ],
      "metadata": {
        "id": "GJ2ktKBh4Ru_"
      },
      "execution_count": null,
      "outputs": []
    },
    {
      "cell_type": "code",
      "source": [
        "check(\"#Q5\")"
      ],
      "metadata": {
        "id": "ABiDLE8O4Vzl"
      },
      "execution_count": null,
      "outputs": []
    },
    {
      "cell_type": "code",
      "source": [
        "#Q6 Display the last 3 rows of mpg\n"
      ],
      "metadata": {
        "id": "WOk4EV1v5dVo"
      },
      "execution_count": null,
      "outputs": []
    },
    {
      "cell_type": "code",
      "source": [
        "check(\"#Q6\")"
      ],
      "metadata": {
        "id": "k6fkPR3f5hWk"
      },
      "execution_count": null,
      "outputs": []
    },
    {
      "cell_type": "code",
      "source": [
        "#Q7 Display only columns cylinders, horsepower and weight\n"
      ],
      "metadata": {
        "id": "OvDDSke_6ZOO"
      },
      "execution_count": null,
      "outputs": []
    },
    {
      "cell_type": "code",
      "source": [
        "check(\"#Q7\")"
      ],
      "metadata": {
        "id": "2Ksr-g7S6eK9"
      },
      "execution_count": null,
      "outputs": []
    },
    {
      "cell_type": "code",
      "source": [
        "#Q8 Display just the contents of column origin\n"
      ],
      "metadata": {
        "id": "slDR7YeS7EoT"
      },
      "execution_count": null,
      "outputs": []
    },
    {
      "cell_type": "code",
      "source": [
        "check(\"#Q8\")"
      ],
      "metadata": {
        "id": "swDWYBmp7LMT"
      },
      "execution_count": null,
      "outputs": []
    },
    {
      "cell_type": "code",
      "source": [
        "#Q9 Display the last 6 rows of column origin\n"
      ],
      "metadata": {
        "id": "31D2NcWT7liM"
      },
      "execution_count": null,
      "outputs": []
    },
    {
      "cell_type": "code",
      "source": [
        "check(\"#Q9\")"
      ],
      "metadata": {
        "id": "wwl7pKty762D"
      },
      "execution_count": null,
      "outputs": []
    },
    {
      "cell_type": "code",
      "source": [
        "#Q10 Display a list of the distinct values in the origin column\n"
      ],
      "metadata": {
        "id": "zmX6VC928Trk"
      },
      "execution_count": null,
      "outputs": []
    },
    {
      "cell_type": "code",
      "source": [
        "check(\"#Q10\")"
      ],
      "metadata": {
        "id": "6HUC1oVy8bdq"
      },
      "execution_count": null,
      "outputs": []
    },
    {
      "cell_type": "code",
      "source": [
        "#Q11 Display the mpg dataframe, sorted (A-Z) by weight\n"
      ],
      "metadata": {
        "id": "qi9OLcka9CeI"
      },
      "execution_count": null,
      "outputs": []
    },
    {
      "cell_type": "code",
      "source": [
        "check(\"#Q11\")"
      ],
      "metadata": {
        "id": "jVdAmKMg9IYA"
      },
      "execution_count": null,
      "outputs": []
    },
    {
      "cell_type": "code",
      "source": [
        "#Q12 Display the mpg dataframe, sorted (A-Z) by cylinders (Z-A), then mpg (A-Z)\n"
      ],
      "metadata": {
        "id": "-ODnIxOT9grA"
      },
      "execution_count": null,
      "outputs": []
    },
    {
      "cell_type": "code",
      "source": [
        "check(\"#Q12\")"
      ],
      "metadata": {
        "id": "ZuVX08Vb9lwA"
      },
      "execution_count": null,
      "outputs": []
    },
    {
      "cell_type": "code",
      "source": [
        "#Q13 Display the average weight\n"
      ],
      "metadata": {
        "id": "hJnGVSqR-Bb2"
      },
      "execution_count": null,
      "outputs": []
    },
    {
      "cell_type": "code",
      "source": [
        "check(\"#Q13\")"
      ],
      "metadata": {
        "id": "xCTgFsm3-HHU"
      },
      "execution_count": null,
      "outputs": []
    },
    {
      "cell_type": "code",
      "source": [
        "#Q14 Display the average weight per number of cylinders\n"
      ],
      "metadata": {
        "id": "-ByM3xQs-eh1"
      },
      "execution_count": null,
      "outputs": []
    },
    {
      "cell_type": "code",
      "source": [
        "check(\"#Q14\")"
      ],
      "metadata": {
        "id": "h6N62e8p-l1n"
      },
      "execution_count": null,
      "outputs": []
    },
    {
      "cell_type": "code",
      "source": [
        "#Q15 Display the number of vehicles per country of origin\n"
      ],
      "metadata": {
        "id": "vNM71Cvj_IOS"
      },
      "execution_count": null,
      "outputs": []
    },
    {
      "cell_type": "code",
      "source": [
        "check(\"#Q15\")"
      ],
      "metadata": {
        "id": "MM20LQon_AjF"
      },
      "execution_count": null,
      "outputs": []
    },
    {
      "cell_type": "code",
      "source": [
        "#Q16 Display all rows heavier then 2500\n"
      ],
      "metadata": {
        "id": "LDdZp3FK_2OK"
      },
      "execution_count": null,
      "outputs": []
    },
    {
      "cell_type": "code",
      "source": [
        "check(\"#Q16\")"
      ],
      "metadata": {
        "id": "sNr1WU0O_8U8"
      },
      "execution_count": null,
      "outputs": []
    },
    {
      "cell_type": "code",
      "source": [
        "#Q17 Display all rows with 4 cylinders and horsepower leass than or equal to 80\n"
      ],
      "metadata": {
        "id": "FXwqpT2TAVY5"
      },
      "execution_count": null,
      "outputs": []
    },
    {
      "cell_type": "code",
      "source": [
        "check(\"#Q17\")"
      ],
      "metadata": {
        "id": "Xc9yoTaIAbQv"
      },
      "execution_count": null,
      "outputs": []
    },
    {
      "cell_type": "code",
      "source": [
        "#Q18 Display the first 4 columns of mpg (all rows)\n"
      ],
      "metadata": {
        "id": "wtTgDlFSwcNk"
      },
      "execution_count": null,
      "outputs": []
    },
    {
      "cell_type": "code",
      "source": [
        "check(\"#Q18\")"
      ],
      "metadata": {
        "id": "xu81P9uEwd6c"
      },
      "execution_count": null,
      "outputs": []
    },
    {
      "cell_type": "code",
      "source": [
        "#Q19 Display the first 7 rows of just columns mpg, cylinders and weight\n"
      ],
      "metadata": {
        "id": "mSubln-YD5AO"
      },
      "execution_count": null,
      "outputs": []
    },
    {
      "cell_type": "code",
      "source": [
        "check(\"#Q19\")"
      ],
      "metadata": {
        "id": "_NKoYRNnD9yk"
      },
      "execution_count": null,
      "outputs": []
    },
    {
      "cell_type": "code",
      "source": [
        "#Q20 Display rows 35-47 and columns 3-6\n"
      ],
      "metadata": {
        "id": "D_H3OBnoEPa-"
      },
      "execution_count": null,
      "outputs": []
    },
    {
      "cell_type": "code",
      "source": [
        "check(\"#Q20\")"
      ],
      "metadata": {
        "id": "GhLNESv3EUa3"
      },
      "execution_count": null,
      "outputs": []
    },
    {
      "cell_type": "code",
      "source": [
        "# Data for Q21-Q25\n",
        "customers = pd.DataFrame({'Name': ['Alice', 'Bob', 'Charlie', 'David' ], 'StateCode': ['CO', 'UT', 'CO', 'AL']})\n",
        "us_states = pd.DataFrame({'Code': ['AL','AK','AR','AZ','CA','CO'], 'State': ['Alabama','Alaska','Arkansas','Arizona','California','Colorado']})"
      ],
      "metadata": {
        "id": "KGJrAReHGZH7"
      },
      "execution_count": null,
      "outputs": []
    },
    {
      "cell_type": "code",
      "source": [
        "#Q21 Display 'Name' and 'State' of all customers with a matching State\n"
      ],
      "metadata": {
        "id": "JDw4DJWwKZoI"
      },
      "execution_count": null,
      "outputs": []
    },
    {
      "cell_type": "code",
      "source": [
        "check(\"#Q21\")"
      ],
      "metadata": {
        "id": "q-SFpKXmJJ0W"
      },
      "execution_count": null,
      "outputs": []
    },
    {
      "cell_type": "code",
      "source": [
        "#Q22 Display 'Name' and 'State' of all customers, whether they have a matching State or not\n"
      ],
      "metadata": {
        "id": "eVUy5B0NKesd"
      },
      "execution_count": null,
      "outputs": []
    },
    {
      "cell_type": "code",
      "source": [
        "check(\"#Q22\")"
      ],
      "metadata": {
        "id": "OStN9bDnKAZR"
      },
      "execution_count": null,
      "outputs": []
    },
    {
      "cell_type": "code",
      "source": [
        "#Q23 Display 'Name' and 'State' of all customers. Include all states, whether they have a matching customer or not\n"
      ],
      "metadata": {
        "id": "O_9hhIQDLBRV"
      },
      "execution_count": null,
      "outputs": []
    },
    {
      "cell_type": "code",
      "source": [
        "check(\"#Q23\")"
      ],
      "metadata": {
        "id": "0GNuDt8yLFKa"
      },
      "execution_count": null,
      "outputs": []
    },
    {
      "cell_type": "code",
      "source": [
        "#Q24 Display 'Name' and 'State' of all customers and all states.\n"
      ],
      "metadata": {
        "id": "EDtliAMpLZp5"
      },
      "execution_count": null,
      "outputs": []
    },
    {
      "cell_type": "code",
      "source": [
        "check(\"#Q24\")"
      ],
      "metadata": {
        "id": "KHMtgiv6L50q"
      },
      "execution_count": null,
      "outputs": []
    },
    {
      "cell_type": "code",
      "source": [
        "#Q25 Display a Pivot Table of total number of customers per state. Rows='State', Columns=\"Name\"\n",
        "\n"
      ],
      "metadata": {
        "id": "uswkswkpMYSb"
      },
      "execution_count": null,
      "outputs": []
    },
    {
      "cell_type": "code",
      "source": [
        "check(\"#Q25\")"
      ],
      "metadata": {
        "id": "RxhAWcfcVNYI"
      },
      "execution_count": null,
      "outputs": []
    }
  ]
}